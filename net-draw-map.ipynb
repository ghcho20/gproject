{
 "cells": [
  {
   "cell_type": "code",
   "execution_count": 122,
   "metadata": {},
   "outputs": [],
   "source": [
    "# sample codes for DF union\n",
    "\n",
    "uall = net_addr[['u', 'uaddr']]\n",
    "uall.columns = ['n', 'addr']\n",
    "vall = net_addr[['v', 'vaddr']]\n",
    "vall.columns = ['n', 'addr']\n",
    "\n",
    "# UNION op\n",
    "uv_union = pd.concat([uall, vall],\n",
    "                     ignore_index=True).drop_duplicates().reset_index(drop=True)\n",
    "\n",
    "#net_geo.insert(0, 'name', np.nan)\n",
    "\n",
    "net_geo.loc[:, 'name'] = [uv_union.loc[uv_union.addr==a, 'n'].values[0] for a in net_geo.addr]\n",
    "\n",
    "with pd.ExcelWriter('net.xlsx', engine='xlsxwriter') as writer:\n",
    "    net_addr.to_excel(writer, index=False, sheet_name='addr')\n",
    "    net_geo.to_excel(writer, index=False, sheet_name='geo')\n",
    "    writer.save()"
   ]
  },
  {
   "cell_type": "code",
   "execution_count": null,
   "metadata": {},
   "outputs": [],
   "source": []
  },
  {
   "cell_type": "code",
   "execution_count": null,
   "metadata": {},
   "outputs": [],
   "source": []
  },
  {
   "cell_type": "code",
   "execution_count": 16,
   "metadata": {},
   "outputs": [],
   "source": [
    "'''\n",
    "Test sample up until now\n",
    "\n",
    "START FROM HERE\n",
    "'''\n",
    "LINK_WUNIT = 60 # km\n",
    "\n",
    "import pandas as pd\n",
    "import numpy as np\n",
    "\n",
    "net_addr = pd.read_excel('net.xlsx', sheet_name='addr')\n",
    "net_geo = pd.read_excel('net.xlsx', sheet_name='geo')"
   ]
  },
  {
   "cell_type": "code",
   "execution_count": 17,
   "metadata": {},
   "outputs": [
    {
     "data": {
      "text/plain": [
       "'0.10.1'"
      ]
     },
     "execution_count": 17,
     "metadata": {},
     "output_type": "execute_result"
    }
   ],
   "source": [
    "import folium\n",
    "from folium import plugins\n",
    "folium.__version__"
   ]
  },
  {
   "cell_type": "code",
   "execution_count": 18,
   "metadata": {},
   "outputs": [
    {
     "data": {
      "text/html": [
       "<div>\n",
       "<style scoped>\n",
       "    .dataframe tbody tr th:only-of-type {\n",
       "        vertical-align: middle;\n",
       "    }\n",
       "\n",
       "    .dataframe tbody tr th {\n",
       "        vertical-align: top;\n",
       "    }\n",
       "\n",
       "    .dataframe thead th {\n",
       "        text-align: right;\n",
       "    }\n",
       "</style>\n",
       "<table border=\"1\" class=\"dataframe\">\n",
       "  <thead>\n",
       "    <tr style=\"text-align: right;\">\n",
       "      <th></th>\n",
       "      <th>type</th>\n",
       "      <th>u</th>\n",
       "      <th>v</th>\n",
       "      <th>uaddr</th>\n",
       "      <th>vaddr</th>\n",
       "      <th>distance</th>\n",
       "      <th>weight</th>\n",
       "    </tr>\n",
       "  </thead>\n",
       "  <tbody>\n",
       "    <tr>\n",
       "      <th>0</th>\n",
       "      <td>M</td>\n",
       "      <td>서울(★서울청사)</td>\n",
       "      <td>남양주(T중심국)</td>\n",
       "      <td>서울 종로구 세종대로 209</td>\n",
       "      <td>경기 남양주시 금곡동 172-10</td>\n",
       "      <td>42</td>\n",
       "      <td>1</td>\n",
       "    </tr>\n",
       "    <tr>\n",
       "      <th>1</th>\n",
       "      <td>M</td>\n",
       "      <td>남양주(T중심국)</td>\n",
       "      <td>S가평집중국</td>\n",
       "      <td>경기 남양주시 금곡동 172-10</td>\n",
       "      <td>경기 가평군 가평읍 읍내리 470-1</td>\n",
       "      <td>49</td>\n",
       "      <td>1</td>\n",
       "    </tr>\n",
       "    <tr>\n",
       "      <th>2</th>\n",
       "      <td>M</td>\n",
       "      <td>S가평집중국</td>\n",
       "      <td>춘천(강원도청)</td>\n",
       "      <td>경기 가평군 가평읍 읍내리 470-1</td>\n",
       "      <td>강원 춘천시 중앙로 1</td>\n",
       "      <td>38</td>\n",
       "      <td>1</td>\n",
       "    </tr>\n",
       "  </tbody>\n",
       "</table>\n",
       "</div>"
      ],
      "text/plain": [
       "  type          u          v                 uaddr                 vaddr  \\\n",
       "0    M  서울(★서울청사)  남양주(T중심국)       서울 종로구 세종대로 209    경기 남양주시 금곡동 172-10   \n",
       "1    M  남양주(T중심국)     S가평집중국    경기 남양주시 금곡동 172-10  경기 가평군 가평읍 읍내리 470-1   \n",
       "2    M     S가평집중국   춘천(강원도청)  경기 가평군 가평읍 읍내리 470-1          강원 춘천시 중앙로 1   \n",
       "\n",
       "   distance  weight  \n",
       "0        42       1  \n",
       "1        49       1  \n",
       "2        38       1  "
      ]
     },
     "execution_count": 18,
     "metadata": {},
     "output_type": "execute_result"
    }
   ],
   "source": [
    "net_addr.head(3)"
   ]
  },
  {
   "cell_type": "code",
   "execution_count": 19,
   "metadata": {},
   "outputs": [
    {
     "data": {
      "text/html": [
       "<div>\n",
       "<style scoped>\n",
       "    .dataframe tbody tr th:only-of-type {\n",
       "        vertical-align: middle;\n",
       "    }\n",
       "\n",
       "    .dataframe tbody tr th {\n",
       "        vertical-align: top;\n",
       "    }\n",
       "\n",
       "    .dataframe thead th {\n",
       "        text-align: right;\n",
       "    }\n",
       "</style>\n",
       "<table border=\"1\" class=\"dataframe\">\n",
       "  <thead>\n",
       "    <tr style=\"text-align: right;\">\n",
       "      <th></th>\n",
       "      <th>name</th>\n",
       "      <th>addr</th>\n",
       "      <th>lat</th>\n",
       "      <th>lon</th>\n",
       "    </tr>\n",
       "  </thead>\n",
       "  <tbody>\n",
       "    <tr>\n",
       "      <th>0</th>\n",
       "      <td>서울(★서울청사)</td>\n",
       "      <td>서울 종로구 세종대로 209</td>\n",
       "      <td>37.574908</td>\n",
       "      <td>126.975207</td>\n",
       "    </tr>\n",
       "    <tr>\n",
       "      <th>1</th>\n",
       "      <td>남양주(T중심국)</td>\n",
       "      <td>경기 남양주시 금곡동 172-10</td>\n",
       "      <td>37.637996</td>\n",
       "      <td>127.215612</td>\n",
       "    </tr>\n",
       "    <tr>\n",
       "      <th>2</th>\n",
       "      <td>S가평집중국</td>\n",
       "      <td>경기 가평군 가평읍 읍내리 470-1</td>\n",
       "      <td>37.830678</td>\n",
       "      <td>127.513030</td>\n",
       "    </tr>\n",
       "  </tbody>\n",
       "</table>\n",
       "</div>"
      ],
      "text/plain": [
       "        name                  addr        lat         lon\n",
       "0  서울(★서울청사)       서울 종로구 세종대로 209  37.574908  126.975207\n",
       "1  남양주(T중심국)    경기 남양주시 금곡동 172-10  37.637996  127.215612\n",
       "2     S가평집중국  경기 가평군 가평읍 읍내리 470-1  37.830678  127.513030"
      ]
     },
     "execution_count": 19,
     "metadata": {},
     "output_type": "execute_result"
    }
   ],
   "source": [
    "net_geo.head(3)"
   ]
  },
  {
   "cell_type": "code",
   "execution_count": 32,
   "metadata": {
    "scrolled": true
   },
   "outputs": [],
   "source": [
    "# draw network topology\n",
    "\n",
    "center = (37.541, 126.986) # center of seoul\n",
    "m = folium.Map(location=center, zoom_start=7, tiles='cartodbpositron')\n",
    "\n",
    "'''\n",
    "plugins.Fullscreen(position='topright',\n",
    "                   title='Full Screen',\n",
    "                   title_cancel='Back to Normal',\n",
    "                   force_separate_button=True).add_to(m)\n",
    "'''\n",
    "\n",
    "#m.add_child(folium.LatLngPopup())\n",
    "\n",
    "fg = folium.FeatureGroup(name='links')\n",
    "m.add_child(fg)\n",
    "\n",
    "gm = plugins.FeatureGroupSubGroup(fg, 'main')\n",
    "m.add_child(gm)\n",
    "gx = plugins.FeatureGroupSubGroup(fg, 'mesh')\n",
    "m.add_child(gx)\n",
    "gr = plugins.FeatureGroupSubGroup(fg, 'sub')\n",
    "m.add_child(gr)\n",
    "    \n",
    "# draw all links\n",
    "linecolor = {'M' : 'crimson', 'X' : 'orange', 'N' : 'grey'}\n",
    "g2add = {'M' : gm, 'X' : gx, 'N' : gr}\n",
    "for i, uv in net_addr.iterrows():\n",
    "    #uaddr, vaddr = uv['uaddr'], uv['vaddr']\n",
    "    line = [\n",
    "        net_geo.loc[net_geo.addr == uv['uaddr'], ['lat', 'lon']].values[0],\n",
    "        net_geo.loc[net_geo.addr == uv['vaddr'], ['lat', 'lon']].values[0]\n",
    "    ]\n",
    "    \n",
    "    folium.PolyLine(\n",
    "        line,\n",
    "        popup = str(uv['distance']),\n",
    "        tooltip = str(uv['weight']) + ' links / ' + str(uv['distance']) + ' km',\n",
    "        color = linecolor[uv['type']],\n",
    "        weight = 3,\n",
    "        dash_array = '1,5' if uv['weight'] > 1 else '1,1'\n",
    "    ).add_to(g2add[uv['type']])\n",
    "    \n",
    "folium.LayerControl(collapsed=False).add_to(m)\n",
    "    \n",
    "# plot all nodes\n",
    "for i, rgeo in net_geo.iterrows():\n",
    "    folium.Circle(\n",
    "        location = rgeo[['lat', 'lon']],\n",
    "        popup = rgeo['name'],\n",
    "        tooltip = rgeo['name'],\n",
    "        radius = 250,\n",
    "        color = 'darkblue',\n",
    "        fill_color = 'crimson',\n",
    "        weight = 5\n",
    "    ).add_to(m)"
   ]
  },
  {
   "cell_type": "code",
   "execution_count": 33,
   "metadata": {},
   "outputs": [],
   "source": [
    "m.save('net-map.html')"
   ]
  },
  {
   "cell_type": "code",
   "execution_count": 25,
   "metadata": {},
   "outputs": [
    {
     "data": {
      "text/html": [
       "<div>\n",
       "<style scoped>\n",
       "    .dataframe tbody tr th:only-of-type {\n",
       "        vertical-align: middle;\n",
       "    }\n",
       "\n",
       "    .dataframe tbody tr th {\n",
       "        vertical-align: top;\n",
       "    }\n",
       "\n",
       "    .dataframe thead th {\n",
       "        text-align: right;\n",
       "    }\n",
       "</style>\n",
       "<table border=\"1\" class=\"dataframe\">\n",
       "  <thead>\n",
       "    <tr style=\"text-align: right;\">\n",
       "      <th></th>\n",
       "      <th>type</th>\n",
       "      <th>u</th>\n",
       "      <th>v</th>\n",
       "      <th>uaddr</th>\n",
       "      <th>vaddr</th>\n",
       "      <th>distance</th>\n",
       "      <th>weight</th>\n",
       "    </tr>\n",
       "  </thead>\n",
       "  <tbody>\n",
       "    <tr>\n",
       "      <th>7</th>\n",
       "      <td>M</td>\n",
       "      <td>안동(경북도청)</td>\n",
       "      <td>구미(구미시청)</td>\n",
       "      <td>경북 안동시 풍천면 도청대로 455</td>\n",
       "      <td>경북 구미시 송정대로 55</td>\n",
       "      <td>107</td>\n",
       "      <td>2</td>\n",
       "    </tr>\n",
       "    <tr>\n",
       "      <th>51</th>\n",
       "      <td>N</td>\n",
       "      <td>안동(경북도청)</td>\n",
       "      <td>포항(포항시청)</td>\n",
       "      <td>경북 안동시 풍천면 도청대로 455</td>\n",
       "      <td>경북 포항시 남구 시청로 1</td>\n",
       "      <td>265</td>\n",
       "      <td>5</td>\n",
       "    </tr>\n",
       "  </tbody>\n",
       "</table>\n",
       "</div>"
      ],
      "text/plain": [
       "   type         u         v                uaddr            vaddr  distance  \\\n",
       "7     M  안동(경북도청)  구미(구미시청)  경북 안동시 풍천면 도청대로 455   경북 구미시 송정대로 55       107   \n",
       "51    N  안동(경북도청)  포항(포항시청)  경북 안동시 풍천면 도청대로 455  경북 포항시 남구 시청로 1       265   \n",
       "\n",
       "    weight  \n",
       "7        2  \n",
       "51       5  "
      ]
     },
     "execution_count": 25,
     "metadata": {},
     "output_type": "execute_result"
    }
   ],
   "source": [
    "net_addr[net_addr.u == '안동(경북도청)']"
   ]
  },
  {
   "cell_type": "code",
   "execution_count": null,
   "metadata": {},
   "outputs": [],
   "source": []
  }
 ],
 "metadata": {
  "kernelspec": {
   "display_name": "Python 3",
   "language": "python",
   "name": "python3"
  },
  "language_info": {
   "codemirror_mode": {
    "name": "ipython",
    "version": 3
   },
   "file_extension": ".py",
   "mimetype": "text/x-python",
   "name": "python",
   "nbconvert_exporter": "python",
   "pygments_lexer": "ipython3",
   "version": "3.7.4"
  }
 },
 "nbformat": 4,
 "nbformat_minor": 2
}
