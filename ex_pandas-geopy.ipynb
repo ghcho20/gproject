{
 "cells": [
  {
   "cell_type": "code",
   "execution_count": 109,
   "metadata": {},
   "outputs": [],
   "source": [
    "import pandas as pd\n",
    "import numpy as np"
   ]
  },
  {
   "cell_type": "code",
   "execution_count": 32,
   "metadata": {},
   "outputs": [],
   "source": [
    "nodes = pd.read_excel('nodes-net01.xlsx',\n",
    "                     sheet_name='net1')"
   ]
  },
  {
   "cell_type": "code",
   "execution_count": 17,
   "metadata": {},
   "outputs": [
    {
     "data": {
      "text/html": [
       "<div>\n",
       "<style scoped>\n",
       "    .dataframe tbody tr th:only-of-type {\n",
       "        vertical-align: middle;\n",
       "    }\n",
       "\n",
       "    .dataframe tbody tr th {\n",
       "        vertical-align: top;\n",
       "    }\n",
       "\n",
       "    .dataframe thead th {\n",
       "        text-align: right;\n",
       "    }\n",
       "</style>\n",
       "<table border=\"1\" class=\"dataframe\">\n",
       "  <thead>\n",
       "    <tr style=\"text-align: right;\">\n",
       "      <th></th>\n",
       "      <th>u</th>\n",
       "      <th>v</th>\n",
       "      <th>uaddr</th>\n",
       "      <th>vaddr</th>\n",
       "      <th>distannce</th>\n",
       "      <th>type</th>\n",
       "    </tr>\n",
       "  </thead>\n",
       "  <tbody>\n",
       "    <tr>\n",
       "      <th>0</th>\n",
       "      <td>서울(★서울청사)</td>\n",
       "      <td>남양주(T중심국)</td>\n",
       "      <td>서울 종로구 세종대로 209</td>\n",
       "      <td>경기 남양주시 금곡동 172-10</td>\n",
       "      <td>42</td>\n",
       "      <td>M</td>\n",
       "    </tr>\n",
       "    <tr>\n",
       "      <th>1</th>\n",
       "      <td>남양주(T중심국)</td>\n",
       "      <td>S가평집중국</td>\n",
       "      <td>경기 남양주시 금곡동 172-10</td>\n",
       "      <td>경기 가평군 가평읍 읍내리 470-1</td>\n",
       "      <td>49</td>\n",
       "      <td>M</td>\n",
       "    </tr>\n",
       "    <tr>\n",
       "      <th>2</th>\n",
       "      <td>S가평집중국</td>\n",
       "      <td>춘천(강원도청)</td>\n",
       "      <td>경기 가평군 가평읍 읍내리 470-1</td>\n",
       "      <td>강원 춘천시 중앙로 1</td>\n",
       "      <td>38</td>\n",
       "      <td>M</td>\n",
       "    </tr>\n",
       "  </tbody>\n",
       "</table>\n",
       "</div>"
      ],
      "text/plain": [
       "           u          v                 uaddr                 vaddr  \\\n",
       "0  서울(★서울청사)  남양주(T중심국)       서울 종로구 세종대로 209    경기 남양주시 금곡동 172-10   \n",
       "1  남양주(T중심국)     S가평집중국    경기 남양주시 금곡동 172-10  경기 가평군 가평읍 읍내리 470-1   \n",
       "2     S가평집중국   춘천(강원도청)  경기 가평군 가평읍 읍내리 470-1          강원 춘천시 중앙로 1   \n",
       "\n",
       "   distannce type  \n",
       "0         42    M  \n",
       "1         49    M  \n",
       "2         38    M  "
      ]
     },
     "execution_count": 17,
     "metadata": {},
     "output_type": "execute_result"
    }
   ],
   "source": [
    "nodes.head(3)"
   ]
  },
  {
   "cell_type": "code",
   "execution_count": 19,
   "metadata": {},
   "outputs": [
    {
     "data": {
      "text/plain": [
       "RangeIndex(start=0, stop=70, step=1)"
      ]
     },
     "execution_count": 19,
     "metadata": {},
     "output_type": "execute_result"
    }
   ],
   "source": [
    "nodes.index"
   ]
  },
  {
   "cell_type": "code",
   "execution_count": 20,
   "metadata": {},
   "outputs": [
    {
     "data": {
      "text/plain": [
       "Index(['u', 'v', 'uaddr', 'vaddr', 'distannce', 'type'], dtype='object')"
      ]
     },
     "execution_count": 20,
     "metadata": {},
     "output_type": "execute_result"
    }
   ],
   "source": [
    "nodes.columns"
   ]
  },
  {
   "cell_type": "code",
   "execution_count": 27,
   "metadata": {},
   "outputs": [
    {
     "data": {
      "text/plain": [
       "0     남양주(T중심국)\n",
       "1        S가평집중국\n",
       "2      춘천(강원도청)\n",
       "3           홍천T\n",
       "4      원주(원주시청)\n",
       "        ...    \n",
       "65         대전센터\n",
       "66     광주(광주시청)\n",
       "67         광주센터\n",
       "68         세종시청\n",
       "69    세종(★세종청사)\n",
       "Name: v, Length: 70, dtype: object"
      ]
     },
     "execution_count": 27,
     "metadata": {},
     "output_type": "execute_result"
    }
   ],
   "source": [
    "nodes.v"
   ]
  },
  {
   "cell_type": "code",
   "execution_count": 52,
   "metadata": {},
   "outputs": [
    {
     "data": {
      "text/html": [
       "<div>\n",
       "<style scoped>\n",
       "    .dataframe tbody tr th:only-of-type {\n",
       "        vertical-align: middle;\n",
       "    }\n",
       "\n",
       "    .dataframe tbody tr th {\n",
       "        vertical-align: top;\n",
       "    }\n",
       "\n",
       "    .dataframe thead th {\n",
       "        text-align: right;\n",
       "    }\n",
       "</style>\n",
       "<table border=\"1\" class=\"dataframe\">\n",
       "  <thead>\n",
       "    <tr style=\"text-align: right;\">\n",
       "      <th></th>\n",
       "      <th>u</th>\n",
       "      <th>v</th>\n",
       "      <th>distance</th>\n",
       "    </tr>\n",
       "  </thead>\n",
       "  <tbody>\n",
       "    <tr>\n",
       "      <th>0</th>\n",
       "      <td>서울(★서울청사)</td>\n",
       "      <td>남양주(T중심국)</td>\n",
       "      <td>42</td>\n",
       "    </tr>\n",
       "    <tr>\n",
       "      <th>1</th>\n",
       "      <td>남양주(T중심국)</td>\n",
       "      <td>S가평집중국</td>\n",
       "      <td>49</td>\n",
       "    </tr>\n",
       "    <tr>\n",
       "      <th>2</th>\n",
       "      <td>S가평집중국</td>\n",
       "      <td>춘천(강원도청)</td>\n",
       "      <td>38</td>\n",
       "    </tr>\n",
       "    <tr>\n",
       "      <th>3</th>\n",
       "      <td>춘천(강원도청)</td>\n",
       "      <td>홍천T</td>\n",
       "      <td>47</td>\n",
       "    </tr>\n",
       "    <tr>\n",
       "      <th>4</th>\n",
       "      <td>홍천T</td>\n",
       "      <td>원주(원주시청)</td>\n",
       "      <td>57</td>\n",
       "    </tr>\n",
       "  </tbody>\n",
       "</table>\n",
       "</div>"
      ],
      "text/plain": [
       "           u          v  distance\n",
       "0  서울(★서울청사)  남양주(T중심국)        42\n",
       "1  남양주(T중심국)     S가평집중국        49\n",
       "2     S가평집중국   춘천(강원도청)        38\n",
       "3   춘천(강원도청)        홍천T        47\n",
       "4        홍천T   원주(원주시청)        57"
      ]
     },
     "execution_count": 52,
     "metadata": {},
     "output_type": "execute_result"
    }
   ],
   "source": [
    "nodes.loc[0:4,['u','v','distance']]"
   ]
  },
  {
   "cell_type": "code",
   "execution_count": 46,
   "metadata": {},
   "outputs": [],
   "source": [
    "nodes['weight'] = (nodes['distance'] + 69) // 70"
   ]
  },
  {
   "cell_type": "code",
   "execution_count": 53,
   "metadata": {},
   "outputs": [
    {
     "data": {
      "text/html": [
       "<div>\n",
       "<style scoped>\n",
       "    .dataframe tbody tr th:only-of-type {\n",
       "        vertical-align: middle;\n",
       "    }\n",
       "\n",
       "    .dataframe tbody tr th {\n",
       "        vertical-align: top;\n",
       "    }\n",
       "\n",
       "    .dataframe thead th {\n",
       "        text-align: right;\n",
       "    }\n",
       "</style>\n",
       "<table border=\"1\" class=\"dataframe\">\n",
       "  <thead>\n",
       "    <tr style=\"text-align: right;\">\n",
       "      <th></th>\n",
       "      <th>u</th>\n",
       "      <th>v</th>\n",
       "      <th>uaddr</th>\n",
       "      <th>vaddr</th>\n",
       "      <th>distance</th>\n",
       "      <th>type</th>\n",
       "      <th>weight</th>\n",
       "    </tr>\n",
       "  </thead>\n",
       "  <tbody>\n",
       "    <tr>\n",
       "      <th>0</th>\n",
       "      <td>서울(★서울청사)</td>\n",
       "      <td>남양주(T중심국)</td>\n",
       "      <td>서울 종로구 세종대로 209</td>\n",
       "      <td>경기 남양주시 금곡동 172-10</td>\n",
       "      <td>42</td>\n",
       "      <td>M</td>\n",
       "      <td>1</td>\n",
       "    </tr>\n",
       "    <tr>\n",
       "      <th>1</th>\n",
       "      <td>남양주(T중심국)</td>\n",
       "      <td>S가평집중국</td>\n",
       "      <td>경기 남양주시 금곡동 172-10</td>\n",
       "      <td>경기 가평군 가평읍 읍내리 470-1</td>\n",
       "      <td>49</td>\n",
       "      <td>M</td>\n",
       "      <td>1</td>\n",
       "    </tr>\n",
       "    <tr>\n",
       "      <th>2</th>\n",
       "      <td>S가평집중국</td>\n",
       "      <td>춘천(강원도청)</td>\n",
       "      <td>경기 가평군 가평읍 읍내리 470-1</td>\n",
       "      <td>강원 춘천시 중앙로 1</td>\n",
       "      <td>38</td>\n",
       "      <td>M</td>\n",
       "      <td>1</td>\n",
       "    </tr>\n",
       "    <tr>\n",
       "      <th>3</th>\n",
       "      <td>춘천(강원도청)</td>\n",
       "      <td>홍천T</td>\n",
       "      <td>강원 춘천시 중앙로 1</td>\n",
       "      <td>강원 홍천군 홍천읍 연봉리</td>\n",
       "      <td>47</td>\n",
       "      <td>M</td>\n",
       "      <td>1</td>\n",
       "    </tr>\n",
       "    <tr>\n",
       "      <th>4</th>\n",
       "      <td>홍천T</td>\n",
       "      <td>원주(원주시청)</td>\n",
       "      <td>강원 홍천군 홍천읍 연봉리</td>\n",
       "      <td>강원 원주시 시청로 1</td>\n",
       "      <td>57</td>\n",
       "      <td>M</td>\n",
       "      <td>1</td>\n",
       "    </tr>\n",
       "  </tbody>\n",
       "</table>\n",
       "</div>"
      ],
      "text/plain": [
       "           u          v                 uaddr                 vaddr  distance  \\\n",
       "0  서울(★서울청사)  남양주(T중심국)       서울 종로구 세종대로 209    경기 남양주시 금곡동 172-10        42   \n",
       "1  남양주(T중심국)     S가평집중국    경기 남양주시 금곡동 172-10  경기 가평군 가평읍 읍내리 470-1        49   \n",
       "2     S가평집중국   춘천(강원도청)  경기 가평군 가평읍 읍내리 470-1          강원 춘천시 중앙로 1        38   \n",
       "3   춘천(강원도청)        홍천T          강원 춘천시 중앙로 1        강원 홍천군 홍천읍 연봉리        47   \n",
       "4        홍천T   원주(원주시청)        강원 홍천군 홍천읍 연봉리          강원 원주시 시청로 1        57   \n",
       "\n",
       "  type  weight  \n",
       "0    M       1  \n",
       "1    M       1  \n",
       "2    M       1  \n",
       "3    M       1  \n",
       "4    M       1  "
      ]
     },
     "execution_count": 53,
     "metadata": {},
     "output_type": "execute_result"
    }
   ],
   "source": [
    "nodes.head(5)"
   ]
  },
  {
   "cell_type": "code",
   "execution_count": 124,
   "metadata": {},
   "outputs": [
    {
     "data": {
      "text/plain": [
       "'http://maps.googleapis.com/maps/api/geocode/json?sensor=false&language=ko&address=서울 종로구 세종대로 209'"
      ]
     },
     "execution_count": 124,
     "metadata": {},
     "output_type": "execute_result"
    }
   ],
   "source": [
    "addr = nodes.loc[0, 'uaddr']\n",
    "#addr = addr.replace(\" \", \"%20\")\n",
    "URL = f\"http://maps.googleapis.com/maps/api/geocode/json?sensor=false&language=ko&address={addr}\"\n",
    "URL"
   ]
  },
  {
   "cell_type": "code",
   "execution_count": 132,
   "metadata": {},
   "outputs": [
    {
     "name": "stdout",
     "output_type": "stream",
     "text": [
      "{'place_id': 3368683, 'licence': 'Data © OpenStreetMap contributors, ODbL 1.0. https://osm.org/copyright', 'osm_type': 'node', 'osm_id': 368875600, 'boundingbox': ['37.5749319', '37.5750319', '126.9748274', '126.9749274'], 'lat': '37.5749819', 'lon': '126.9748774', 'display_name': '정부서울청사우체국, 209, 세종대로, 사직동, 오정구, 110-760, 대한민국', 'class': 'amenity', 'type': 'post_office', 'importance': 0.32100000000000006, 'icon': 'https://nominatim.openstreetmap.org/images/mapicons/amenity_post_office.p.20.png'}\n",
      "37.5749819 126.9748774\n"
     ]
    }
   ],
   "source": [
    "from geopy.geocoders import Nominatim\n",
    "geocd = Nominatim(user_agent='ghcho_test')\n",
    "loc = geocd.geocode(addr)\n",
    "print(loc.raw)\n",
    "print(loc.latitude, loc.longitude)"
   ]
  }
 ],
 "metadata": {
  "kernelspec": {
   "display_name": "Python 3",
   "language": "python",
   "name": "python3"
  },
  "language_info": {
   "codemirror_mode": {
    "name": "ipython",
    "version": 3
   },
   "file_extension": ".py",
   "mimetype": "text/x-python",
   "name": "python",
   "nbconvert_exporter": "python",
   "pygments_lexer": "ipython3",
   "version": "3.7.4"
  }
 },
 "nbformat": 4,
 "nbformat_minor": 2
}
